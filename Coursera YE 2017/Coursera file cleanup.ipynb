{
 "cells": [
  {
   "cell_type": "code",
   "execution_count": 15,
   "metadata": {
    "collapsed": false
   },
   "outputs": [],
   "source": [
    "import os\n",
    "os.chdir('/Users/Holly/Documents/Coursera YE 2017')"
   ]
  },
  {
   "cell_type": "code",
   "execution_count": 23,
   "metadata": {
    "collapsed": false
   },
   "outputs": [
    {
     "name": "stdout",
     "output_type": "stream",
     "text": [
      "/Users/Holly/Documents/Coursera YE 2017/Deep Neural Networks - Course 2\n",
      "\n",
      "/Users/Holly/Documents/Coursera YE 2017/Deep Neural Networks - Course 2\n"
     ]
    }
   ],
   "source": [
    "print(os.getcwd() + '\\n')\n",
    "\n",
    "for d in os.listdir('.'):\n",
    "    os.chdir(d)\n",
    "    #print(d)\n",
    "    #print(os.listdir('.'))\n",
    "    #print('\\n\\n')\n",
    "    os.chdir('..')\n",
    "\n",
    "print(os.getcwd())"
   ]
  },
  {
   "cell_type": "code",
   "execution_count": 33,
   "metadata": {
    "collapsed": false
   },
   "outputs": [
    {
     "data": {
      "text/plain": [
       "'/Users/Holly/Documents/Coursera YE 2017/Deep Neural Networks - Course 2/Week 3'"
      ]
     },
     "execution_count": 33,
     "metadata": {},
     "output_type": "execute_result"
    }
   ],
   "source": [
    "dirs = os.listdir('.')\n",
    "dirs\n",
    "# os.chdir(dirs[2])\n",
    "os.getcwd()"
   ]
  },
  {
   "cell_type": "code",
   "execution_count": 38,
   "metadata": {
    "collapsed": false
   },
   "outputs": [
    {
     "name": "stdout",
     "output_type": "stream",
     "text": [
      "['1 - Tuning process.mp4', '10 - deep learning frameworks.mp4', '11 - Tensorflow.mp4', '2 - Using scale.mp4', '3 - Hyperparameters in practice.mp4', '4 - Normalizing Activations.mp4', '5 - Fitting batch norm.mp4', '6 - Why does batch norm work.mp4', '7 - Batch norm at test time.mp4', '8 - softmax.mp4', '9 - training softmax.mp4', 'C2W3L01.pptx', 'C2W3L02.pptx', 'C2W3L05.pptx', 'C2W3L06.pptx', 'C2W3L07.pptx', 'C2W3L08.pptx', 'C2W3L09.pptx', 'softmax-new.pptx', 'softmax2-new.pptx', 'Tensorflow+Tutorial.ipynb']\n"
     ]
    }
   ],
   "source": [
    "def shortennames(mypath):\n",
    "\n",
    "    # Get list of file names\n",
    "    files = [f for f in os.listdir(mypath) if os.path.isfile(os.path.join(mypath, f))]\n",
    "\n",
    "    for f in files:\n",
    "        if f[0] == '_':\n",
    "            shortname = f[f.find('_', 1)+1:]\n",
    "            #print(shortname)\n",
    "            os.rename(f, shortname)\n",
    "\n",
    "    #print(os.listdir(mypath))\n",
    "\n",
    "shortennames('.')"
   ]
  },
  {
   "cell_type": "code",
   "execution_count": 76,
   "metadata": {
    "collapsed": false
   },
   "outputs": [
    {
     "data": {
      "text/plain": [
       "'/Users/Holly/Documents/Coursera YE 2017'"
      ]
     },
     "execution_count": 76,
     "metadata": {},
     "output_type": "execute_result"
    }
   ],
   "source": [
    "os.chdir('..')\n",
    "os.getcwd()"
   ]
  },
  {
   "cell_type": "code",
   "execution_count": 81,
   "metadata": {
    "collapsed": false
   },
   "outputs": [],
   "source": [
    "os.chdir('/Users/Holly/Documents/Coursera YE 2017')\n",
    "\n",
    "def shortennames(mypath):\n",
    "\n",
    "    # Get list of file names\n",
    "    files = [f for f in os.listdir(mypath) if os.path.isfile(os.path.join(mypath, f))]\n",
    "\n",
    "    for f in files:\n",
    "        if f[0] == '_':\n",
    "            shortname = f[f.find('_', 1)+1:]\n",
    "            #print(shortname)\n",
    "            os.rename(f, shortname)\n",
    "\n",
    "    #print(os.listdir(mypath))\n",
    "\n",
    "\n",
    "\n",
    "def dirwalk(mypath):\n",
    "    \n",
    "    # Get list of dir names\n",
    "    dirs = [d for d in os.listdir(mypath) if os.path.isdir(os.path.join(mypath, d))]\n",
    "    #print(dirs)\n",
    "\n",
    "    for d in dirs:\n",
    "        if d[0] == '.':   # do not include if hidden file\n",
    "            continue\n",
    "        os.chdir(d)     # go into directory\n",
    "        #print(d)\n",
    "        #print(os.listdir('.'))\n",
    "        #print('\\n\\n')\n",
    "        \n",
    "        shortennames('.')\n",
    "        dirwalk('.')   # Recursive directory walk\n",
    "        os.chdir('..')   # pop back out of directory for next in loop\n",
    "\n",
    "mypath = '.'\n",
    "dirwalk(mypath)\n",
    "\n",
    "# could also append pdfs and ppts - ppt in alpha, pdf by datetime"
   ]
  }
 ],
 "metadata": {
  "kernelspec": {
   "display_name": "Python [Root]",
   "language": "python",
   "name": "Python [Root]"
  },
  "language_info": {
   "codemirror_mode": {
    "name": "ipython",
    "version": 2
   },
   "file_extension": ".py",
   "mimetype": "text/x-python",
   "name": "python",
   "nbconvert_exporter": "python",
   "pygments_lexer": "ipython2",
   "version": "2.7.12"
  }
 },
 "nbformat": 4,
 "nbformat_minor": 0
}
