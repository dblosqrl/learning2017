{
 "cells": [
  {
   "cell_type": "code",
   "execution_count": 15,
   "metadata": {
    "collapsed": false
   },
   "outputs": [],
   "source": [
    "import os\n",
    "os.chdir('/Users/Holly/Documents/Coursera YE 2017')"
   ]
  },
  {
   "cell_type": "code",
   "execution_count": 23,
   "metadata": {
    "collapsed": false
   },
   "outputs": [
    {
     "name": "stdout",
     "output_type": "stream",
     "text": [
      "/Users/Holly/Documents/Coursera YE 2017/Deep Neural Networks - Course 2\n",
      "\n",
      "/Users/Holly/Documents/Coursera YE 2017/Deep Neural Networks - Course 2\n"
     ]
    }
   ],
   "source": [
    "print(os.getcwd() + '\\n')\n",
    "\n",
    "for d in os.listdir('.'):\n",
    "    os.chdir(d)\n",
    "    #print(d)\n",
    "    #print(os.listdir('.'))\n",
    "    #print('\\n\\n')\n",
    "    os.chdir('..')\n",
    "\n",
    "print(os.getcwd())"
   ]
  },
  {
   "cell_type": "code",
   "execution_count": 33,
   "metadata": {
    "collapsed": false
   },
   "outputs": [
    {
     "data": {
      "text/plain": [
       "'/Users/Holly/Documents/Coursera YE 2017/Deep Neural Networks - Course 2/Week 3'"
      ]
     },
     "execution_count": 33,
     "metadata": {},
     "output_type": "execute_result"
    }
   ],
   "source": [
    "dirs = os.listdir('.')\n",
    "dirs\n",
    "# os.chdir(dirs[2])\n",
    "os.getcwd()"
   ]
  },
  {
   "cell_type": "code",
   "execution_count": 38,
   "metadata": {
    "collapsed": false
   },
   "outputs": [
    {
     "name": "stdout",
     "output_type": "stream",
     "text": [
      "['1 - Tuning process.mp4', '10 - deep learning frameworks.mp4', '11 - Tensorflow.mp4', '2 - Using scale.mp4', '3 - Hyperparameters in practice.mp4', '4 - Normalizing Activations.mp4', '5 - Fitting batch norm.mp4', '6 - Why does batch norm work.mp4', '7 - Batch norm at test time.mp4', '8 - softmax.mp4', '9 - training softmax.mp4', 'C2W3L01.pptx', 'C2W3L02.pptx', 'C2W3L05.pptx', 'C2W3L06.pptx', 'C2W3L07.pptx', 'C2W3L08.pptx', 'C2W3L09.pptx', 'softmax-new.pptx', 'softmax2-new.pptx', 'Tensorflow+Tutorial.ipynb']\n"
     ]
    }
   ],
   "source": [
    "def shortennames(mypath):\n",
    "\n",
    "    # Get list of file names\n",
    "    files = [f for f in os.listdir(mypath) if os.path.isfile(os.path.join(mypath, f))]\n",
    "\n",
    "    for f in files:\n",
    "        if f[0] == '_':\n",
    "            shortname = f[f.find('_', 1)+1:]\n",
    "            #print(shortname)\n",
    "            os.rename(f, shortname)\n",
    "\n",
    "    #print(os.listdir(mypath))\n",
    "\n",
    "shortennames('.')"
   ]
  },
  {
   "cell_type": "code",
   "execution_count": 76,
   "metadata": {
    "collapsed": false
   },
   "outputs": [
    {
     "data": {
      "text/plain": [
       "'/Users/Holly/Documents/Coursera YE 2017'"
      ]
     },
     "execution_count": 76,
     "metadata": {},
     "output_type": "execute_result"
    }
   ],
   "source": [
    "os.chdir('..')\n",
    "os.getcwd()"
   ]
  },
  {
   "cell_type": "code",
   "execution_count": 80,
   "metadata": {
    "collapsed": false
   },
   "outputs": [
    {
     "name": "stdout",
     "output_type": "stream",
     "text": [
      "Deep Neural Networks - Course 2\n",
      "['Week 1', 'Week 2', 'Week 3']\n",
      "\n",
      "\n",
      "\n",
      "Week 1\n",
      "['10 - Vanishing Exploding Gradients.mp4', '11 - Weight Initialization.mp4', '12 - Numerical Gradients.mp4', '13 - Gradient Checking.mp4', '14 - Gradient Checking Implementation.mp4', '2 - Bias Variance.mp4', '3 - Basic Recipe for ML.mp4', '4 - Regularization.mp4', '5 - Why Regularization Improves overfitting.mp4', '6 - Dropout Regularization.mp4', '7 - Understanding Dropout.mp4', '8 - Other Regularization Methods.mp4', '9 - Normalizing Inputs.mp4', 'C2W1L01.pptx', 'C2W1L02.pptx', 'C2W1L03-BasicRecipeML_annotated.pdf', 'C2W1L03.pptx', 'C2W1L03b.pptx', 'C2W1L04.pptx', 'C2W1L05.pptx', 'C2W1L06.pptx', 'C2W1L07.pptx', 'C2W1L08.pptx', 'C2W1L09.pptx', 'Gradient Checking.ipynb', 'Initialization.ipynb', 'Regularization.ipynb', 'Train Dev Test sets.mp4']\n",
      "\n",
      "\n",
      "\n",
      "Week 2\n",
      "['1 - Mini batch gradient descent.mp4', '10 - Problem of Learning Rate Optima.mp4', '2 - Understanding minibatch gradient descent.mp4', '3 - Exponentially weighted averages.mp4', '4 - Understanding exp weighted averages.mp4', '5 - Bias correction in exp weighted avgs.mp4', '6 - Gradient Descent with Momentum.mp4', '7 - RMSprop.mp4', '8 - Adam Opt .mp4', '9 - Learning Rate Decay.mp4', 'C2W2L01.pptx', 'C2W2L02.pptx', 'c2w2l03.pptx', 'C2W2L03b.pptx', 'C2W2L04.pptx', 'C2W2L05.pptx', 'C2W2L06.pptx', 'C2W2L07.pptx', 'C2W2L08.pptx', 'C2W2L09.pptx', 'Optimization+methods.ipynb']\n",
      "\n",
      "\n",
      "\n",
      "Week 3\n",
      "['1 - Tuning process.mp4', '10 - deep learning frameworks.mp4', '11 - Tensorflow.mp4', '2 - Using scale.mp4', '3 - Hyperparameters in practice.mp4', '4 - Normalizing Activations.mp4', '5 - Fitting batch norm.mp4', '6 - Why does batch norm work.mp4', '7 - Batch norm at test time.mp4', '8 - softmax.mp4', '9 - training softmax.mp4', 'C2W3L01.pptx', 'C2W3L02.pptx', 'C2W3L05.pptx', 'C2W3L06.pptx', 'C2W3L07.pptx', 'C2W3L08.pptx', 'C2W3L09.pptx', 'softmax-new.pptx', 'softmax2-new.pptx', 'Tensorflow+Tutorial.ipynb']\n",
      "\n",
      "\n",
      "\n",
      "Machine Learning Projects - Course 3\n",
      "['Week 1', 'Week 2']\n",
      "\n",
      "\n",
      "\n",
      "Week 1\n",
      "['1 - Why ML strategy.mp4', '10 - Understanding Human Level.mp4', '11 - Surpassing Human Level.mp4', '12 - Improving performance.mp4', '2 - Orthogonalization.mp4', '3 - Single Number evaluation metric.mp4', '4 - Satisficing.mp4', '5 - Train Dev Test Setup.mp4', '6 - Size of Dev and Test.mp4', '7 - When to change dev and test.mp4', '8 - Why human based.mp4', '9 - Avoidable bias.mp4', 'Andrej Karpathy.mp4', 'Avoidable_bias.pdf', 'C3W1L01.pptx', 'C3W1L02.pptx', 'C3W1L03 (1).pptx', 'C3W1L03.pptx', 'C3W1L04.pptx', 'C3W1L05.pptx', 'C3W1L06.pptx', 'C3W1L07.pptx', 'C3W1L08.pptx', 'C3W1L08B.pptx', 'C3W1L09.pptx', 'C3W1L10.pptx', 'C3W1L11.pptx', 'Improving_your_model_performance.pdf', 'Orthogonalization.pdf', 'Satisficing_and_optimizing_metric.pdf', 'Size_of_the_development_and_test_sets.pdf', 'Surpassing_human_level_performance.pdf', 'Training_development_and_test_distributions.pdf', 'Understanding_human_level_performance.pdf', 'When_to_change_develpment_test_sets_and_metrics.pdf', 'Why_human_level_performance.pdf']\n",
      "\n",
      "\n",
      "\n",
      "Week 2\n",
      "['1 - Carrying out error.mp4', '10 - Whether to use end to end.mp4', '2 - Cleaning up labels.mp4', '3 - Build first quickly then iterate.mp4', '4 - Train and test on diff distributions.mp4', '5 - Bias and Variance mismatched distributions.mp4', '6 - Addressing distributions.mp4', '7 - Transfer learning.mp4', '8 - Multitask learning.mp4', '9 - What is end to end learning.mp4', 'Adressing_data_mismatch.pdf', 'Bias_and_variance_with_mismatched_data_distributions.pdf', 'Build_System_Quickly.pdf', 'C3W2L01.pptx', 'C3W2L02.pptx', 'C3W2L03.pptx', 'C3W2L04.pptx', 'C3W2L05.pptx', 'C3W2L06.pptx', 'C3W2L07.pptx', 'C3W2L08.pptx', 'C3W2L09.pptx', 'C3W2L10.pptx', 'Multi_Task_Learning.pdf', 'Training_and_testing_on_different_distributions.pdf', 'Transfer_Learning.pdf', 'What_is_end_to_end_deep_learning.pdf', 'Whether_to_use_end_to_end_deep_learning.pdf']\n",
      "\n",
      "\n",
      "\n",
      "Neural Networks and Deep Learning - Course 1\n",
      "['.DS_Store', 'deep-learning-notation.pdf', 'Week 1', 'Week 2', 'Week 3', 'Week 4']\n",
      "\n",
      "\n",
      "\n",
      "Week 1\n",
      "['.DS_Store', 'C1W1L03.pptx', 'C1W1L04.pptx', 'Supervised_Learning_for_Neural_Network.pdf', 'What is a neural network_.pptx', 'What_is_Neural_Network.pdf', 'Why_is_Deep_Learning_Taking_Off.pdf']\n",
      "\n",
      "\n",
      "\n",
      "Week 2\n",
      "['Binary_Classification.pdf', 'C1W2L01.pptx', 'C1W2L02.pptx', 'C1W2L03.pptx', 'C1W2L04.pptx', 'C1W2L05.pptx', 'C1W2L06.pptx', 'C1W2L07.pptx', 'C1W2L08.pptx', 'C1W2L09-2.05.53-PM.pptx', 'C1W2L09.pptx', 'Logistic_Regression.pdf', 'Logistic_Regression_Cost_Function.pdf', 'untitled-2.pdf']\n",
      "\n",
      "\n",
      "\n",
      "Week 3\n",
      "['C1W3L01.pptx', 'C1W3L03.pptx', 'C1W3L05.pptx', 'C1W3L06.pptx', 'C1W3L07.pptx', 'C1W3L08.pptx', 'C1W3L09.pptx']\n",
      "\n",
      "\n",
      "\n",
      "Week 4\n",
      "['C1W4L02.pptx', 'C1W4L03.pptx', 'C1W4L04.pptx', 'C1W4L05.pptx', 'C1W4L06-ForwardBackProp_annotated.pdf']\n",
      "\n",
      "\n",
      "\n"
     ]
    }
   ],
   "source": [
    "os.chdir('/Users/Holly/Documents/Coursera YE 2017')\n",
    "\n",
    "def shortennames(mypath):\n",
    "\n",
    "    # Get list of file names\n",
    "    files = [f for f in os.listdir(mypath) if os.path.isfile(os.path.join(mypath, f))]\n",
    "\n",
    "    for f in files:\n",
    "        if f[0] == '_':\n",
    "            shortname = f[f.find('_', 1)+1:]\n",
    "            #print(shortname)\n",
    "            os.rename(f, shortname)\n",
    "\n",
    "    #print(os.listdir(mypath))\n",
    "\n",
    "\n",
    "\n",
    "def dirwalk(mypath):\n",
    "    \n",
    "    # Get list of dir names\n",
    "    dirs = [d for d in os.listdir(mypath) if os.path.isdir(os.path.join(mypath, d))]\n",
    "    #print(dirs)\n",
    "\n",
    "    for d in dirs:\n",
    "        if d[0] == '.':   # do not include if hidden file\n",
    "            continue\n",
    "        os.chdir(d)     # go into directory\n",
    "        #print(d)\n",
    "        #print(os.listdir('.'))\n",
    "        #print('\\n\\n')\n",
    "        \n",
    "        shortennames('.')\n",
    "        dirwalk('.')   # Recursive directory walk\n",
    "        os.chdir('..')   # pop back out of directory for next in loop\n",
    "\n",
    "mypath = '.'\n",
    "dirwalk(mypath)\n",
    "\n",
    "# could also append pdfs and ppts - ppt in alpha, pdf by datetime"
   ]
  }
 ],
 "metadata": {
  "kernelspec": {
   "display_name": "Python [Root]",
   "language": "python",
   "name": "Python [Root]"
  },
  "language_info": {
   "codemirror_mode": {
    "name": "ipython",
    "version": 2
   },
   "file_extension": ".py",
   "mimetype": "text/x-python",
   "name": "python",
   "nbconvert_exporter": "python",
   "pygments_lexer": "ipython2",
   "version": "2.7.12"
  }
 },
 "nbformat": 4,
 "nbformat_minor": 0
}
